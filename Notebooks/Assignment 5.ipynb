{
 "cells": [
  {
   "cell_type": "markdown",
   "id": "dc28e76d-12a4-4aad-ba34-a14d1f416318",
   "metadata": {},
   "source": [
    "**Exercise 5-1:**  **Observable Markov Model** \n",
    "\n",
    "Consider a simple 3-state Markov model of the weather. We assume that once a day (e.g. at noon), the weather is observed as being one of the following: <br>\n",
    "\n",
    "- State 1: rain or snow <br>\n",
    "- State 2: cloudy <br>\n",
    "- State 3: sunny <br>\n",
    "\n",
    "We postulate that the weather on day t is characterized by a single one of the three states above. We have the following transition probabilities: "
   ]
  },
  {
   "cell_type": "markdown",
   "id": "475795eb-c448-486d-8308-b5a144116fa8",
   "metadata": {},
   "source": [
    "<center><img src=\"../images/markov_states.jpg\" alt=\"Drawing\" style=\"width: 700px;\"/></center>"
   ]
  },
  {
   "cell_type": "markdown",
   "id": "cd4ac112-95e4-4610-9f1d-330929ba81d6",
   "metadata": {},
   "source": [
    "a. Given that the weather on day 1 (t=1) is rainy, what is the probability that the weather on the\n",
    "next five days is: {S1, S2, S3, S3, S1}?"
   ]
  },
  {
   "cell_type": "markdown",
   "id": "2f6dc575-e359-4562-a42d-b71e2f6d8655",
   "metadata": {},
   "source": [
    ">Answer:"
   ]
  },
  {
   "cell_type": "markdown",
   "id": "1cb8b245-0416-441c-bb3d-8c8657ffe8b4",
   "metadata": {},
   "source": [
    "b. Given that the model is in a known state, what is the probability it stays in that state for exactly d days?"
   ]
  },
  {
   "cell_type": "markdown",
   "id": "bf3d766d-3b5a-47dd-8711-19d5aa836123",
   "metadata": {},
   "source": [
    "> Answer:"
   ]
  },
  {
   "cell_type": "markdown",
   "id": "742b6fd1-b5ae-4838-9582-af611ff2ec70",
   "metadata": {},
   "source": [
    "c. What is the expected number of observations in a state? Note:  $$\\sum_{d=1}^\\infty da^{d-1} = \\frac{1}{(a-1)^2}$$ when |a| < 1"
   ]
  },
  {
   "cell_type": "markdown",
   "id": "f1a7f98b-6fec-4ac3-9f98-5e983881fc8d",
   "metadata": {},
   "source": [
    "> Answer:"
   ]
  },
  {
   "cell_type": "markdown",
   "id": "5127529c-868f-42d8-819c-0def3b7593c7",
   "metadata": {},
   "source": [
    "**Exercise 5-2:** **Hidden Markov Model** <br>"
   ]
  },
  {
   "cell_type": "markdown",
   "id": "f07c00fd-27fc-496c-9b63-a0158e5ac6e2",
   "metadata": {},
   "source": [
    "Suppose we want to determine the average annual temperature at a particular location on the earth over a series of years. To make it interesting, suppose the years we are concerned with lie in the distant past, before thermometers were invented.  Since we can't go back in time, we instead look for indirect evidence of the temperature. "
   ]
  },
  {
   "cell_type": "markdown",
   "id": "c43ba68c-c342-4335-900c-365e5090a5f4",
   "metadata": {},
   "source": [
    "To simplify the problem, we only consider two annual temperatures, \"hot\" and \"cold\". Suppose that modern evidence indicates that the probability of a hot year followed by another hot year is 0.7 and the probability that a cold year is followed by another cold year is 0.6.  We'll assume that these probabilities held in the distant past as well.  The information so far can be summarized as: "
   ]
  },
  {
   "cell_type": "markdown",
   "id": "113a6598-9697-42b8-8471-25808e4f7e68",
   "metadata": {},
   "source": [
    "$$\n",
    "\\begin{bmatrix}\n",
    "& H & C \\\\\n",
    "H & 0.7 & 0.3 \\\\\n",
    "C & 0.4 & 0.6 \\\\\n",
    "\\end{bmatrix}\n",
    "$$"
   ]
  },
  {
   "cell_type": "markdown",
   "id": "92a09e6f-2097-4406-a004-e446ac4c9f56",
   "metadata": {},
   "source": [
    "where H is \"hot\" and C is \"cold'."
   ]
  },
  {
   "cell_type": "markdown",
   "id": "76ec1804-411a-4798-84d5-cbe2a26ec5dc",
   "metadata": {},
   "source": [
    "Also suppose that current research indicates a correlation between the size of tree growth rings and temperature.  For simplicity, we only consider three different tree ring sizes, small, medium, and large or S, M, and L, respectively.  Finally, suppose that based on available evidence, the probabilistic relationship between annual temperature and tree ring sizes is given by"
   ]
  },
  {
   "cell_type": "markdown",
   "id": "601552f9-4da0-497a-8ff9-7484dbe93d8e",
   "metadata": {},
   "source": [
    "$$\n",
    "\\begin{array}{c|ccc}\n",
    "& S & M & L \\\\\n",
    "\\hline\n",
    "H & 0.1 & 0.4 & 0.5 \\\\\n",
    "C & 0.7 & 0.2 & 0.1 \\\\\n",
    "\\end{array}\n",
    "$$"
   ]
  },
  {
   "cell_type": "markdown",
   "id": "8c221a12-2d52-44c7-9243-1b884d0c1abe",
   "metadata": {},
   "source": [
    "Suppose the initial distribution is $\\pi$ = (0.6, 0.4).  You have the following observation sequence {S, L, L}. Compute the distribution of states as well as the most likely sequence."
   ]
  },
  {
   "cell_type": "code",
   "execution_count": null,
   "id": "c47e1d22-c9dd-4071-beb1-80583f70e1c0",
   "metadata": {},
   "outputs": [],
   "source": []
  }
 ],
 "metadata": {
  "kernelspec": {
   "display_name": "Python 3 (ipykernel)",
   "language": "python",
   "name": "python3"
  },
  "language_info": {
   "codemirror_mode": {
    "name": "ipython",
    "version": 3
   },
   "file_extension": ".py",
   "mimetype": "text/x-python",
   "name": "python",
   "nbconvert_exporter": "python",
   "pygments_lexer": "ipython3",
   "version": "3.9.18"
  }
 },
 "nbformat": 4,
 "nbformat_minor": 5
}
