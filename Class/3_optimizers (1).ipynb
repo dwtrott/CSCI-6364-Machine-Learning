{
 "cells": [
  {
   "cell_type": "markdown",
   "metadata": {},
   "source": [
    "### Finding model parameters using optimizer\n",
    "### This notebook is an illustration for chapter 5 of\n",
    "### Deep Learning with PyTorch by Eli Stevens, Luca Aantiga, Thomas Viehmann, Manning 2020"
   ]
  },
  {
   "cell_type": "code",
   "execution_count": null,
   "metadata": {},
   "outputs": [],
   "source": [
    "%matplotlib inline\n",
    "import numpy as np\n",
    "import torch\n",
    "torch.set_printoptions(edgeitems=2, linewidth=75)"
   ]
  },
  {
   "cell_type": "code",
   "execution_count": null,
   "metadata": {},
   "outputs": [],
   "source": [
    "t_c = torch.tensor([0.5, 14.0, 15.0, 28.0, 11.0,\n",
    "                    8.0, 3.0, -4.0, 6.0, 13.0, 21.0])\n",
    "t_f = torch.tensor([35.7, 55.9, 58.2, 81.9, 56.3, 48.9,\n",
    "                    33.9, 21.8, 48.4, 60.4, 68.4])\n",
    "t_fn = 0.1 * t_f"
   ]
  },
  {
   "cell_type": "markdown",
   "metadata": {},
   "source": [
    "We keep the same model and the loss function"
   ]
  },
  {
   "cell_type": "code",
   "execution_count": null,
   "metadata": {},
   "outputs": [],
   "source": [
    "def model(t_f, w, b):\n",
    "    return w * t_f + b"
   ]
  },
  {
   "cell_type": "code",
   "execution_count": null,
   "metadata": {},
   "outputs": [],
   "source": [
    "def loss_fn(t_p, t_c):\n",
    "    squared_diffs = (t_p - t_c)**2\n",
    "    return squared_diffs.mean()"
   ]
  },
  {
   "cell_type": "markdown",
   "metadata": {},
   "source": [
    "## Provided optimizers\n",
    "So far, we used vanilla gradient descent for optimization, which worked\r\n",
    "fine for our simple case.Tthere are several optimization strategies and\r\n",
    "tricks that can assist convergence, especially when models get complicatedNext, we will  to\r\n",
    "introduce the way PyTorch abstracts the optimization strategy away from user mined. This saves usrk\r\n",
    "of having to update each and every parameter to our model ourselves`. The` torch\r\n",
    "module `has a`  optim submodule where we can find classes implementing different\r\n",
    "optimization algorithms. Here’s an  listabridged"
   ]
  },
  {
   "cell_type": "code",
   "execution_count": null,
   "metadata": {},
   "outputs": [],
   "source": [
    "import torch.optim as optim\n",
    "\n",
    "dir(optim)"
   ]
  },
  {
   "cell_type": "markdown",
   "metadata": {},
   "source": [
    "Every optimizer constructor takes a list of parameters (aka PyTorch tensors, typically\r\n",
    "with` requires_gra`d set to` Tru`e) as the first input. All parameters passed to the optimizer\r\n",
    "are retained inside the optimizer object so the optimizer can update their values\r\n",
    "and access the`ir g`rad attribute,"
   ]
  },
  {
   "cell_type": "markdown",
   "metadata": {},
   "source": [
    "Each optimizer exposes two methods: `zero_grad` and `step`. `zero_grad` zeroes the\r",
    "`\n",
    "gra`d attribute of all the parameters passed to the optimizer upon construction.` ste`p\r\n",
    "updates the value of those parameters according to the optimization strategy implemented\r\n",
    "by the specific optimizer."
   ]
  },
  {
   "cell_type": "code",
   "execution_count": null,
   "metadata": {},
   "outputs": [],
   "source": [
    "params = torch.tensor([1.0, 0.0], requires_grad=True)\n",
    "learning_rate = 1e-5\n",
    "optimizer = optim.SGD([params], lr=learning_rate)"
   ]
  },
  {
   "cell_type": "markdown",
   "metadata": {},
   "source": [
    "Here SGD stands for stochastic gradient descent. Actually, the optimizer itself is exactly a\r\n",
    "vanilla gradient descent (as long as the` momentu`m argument is set to 0.0, which is the\r\n",
    "default). The term stochastic comes from the fact that the gradient is typically obtained\r\n",
    "by averaging over a random subset of all input samples, called a minibatch. However, the\r\n",
    "optimizer does not know if the loss was evaluated on all the samples (vanilla) or a random\r\n",
    "subset of them (stochastic), so the algorithm is literally the same in the two cases."
   ]
  },
  {
   "cell_type": "code",
   "execution_count": null,
   "metadata": {},
   "outputs": [],
   "source": [
    "t_p = model(t_f, *params)\n",
    "loss = loss_fn(t_p, t_c)\n",
    "loss.backward()\n",
    "\n",
    "optimizer.step()\n",
    "\n",
    "params"
   ]
  },
  {
   "cell_type": "markdown",
   "metadata": {},
   "source": [
    "The value of `params` is updated upon calling step without us having to touch it ourselves!\n",
    "What happens is that the optimizer looks into `params.grad` and updates\n",
    "`params`, subtracting `learning_rate` times `grad` from it, exactly as in our former handrolled\n",
    "code.\n",
    "When using this code in a training loop we have to remember to zero out the gradients in every loop. Otherwise, the gradients\n",
    "would accumulate in the leaves at every call to `backward`. Below is the loop-ready code, with the extra\n",
    "`zero_grad` at the correct spot (right before the call to `backward`):"
   ]
  },
  {
   "cell_type": "code",
   "execution_count": null,
   "metadata": {},
   "outputs": [],
   "source": [
    "params = torch.tensor([1.0, 0.0], requires_grad=True)\n",
    "learning_rate = 1e-2\n",
    "optimizer = optim.SGD([params], lr=learning_rate)\n",
    "\n",
    "t_p = model(t_fn, *params)\n",
    "loss = loss_fn(t_p, t_c)\n",
    "\n",
    "# The exact placement of this call is somewhat arbitrary. \n",
    "# It could be earlier in the loop as well.\n",
    "optimizer.zero_grad() \n",
    "loss.backward()\n",
    "optimizer.step()\n",
    "\n",
    "params"
   ]
  },
  {
   "cell_type": "markdown",
   "metadata": {},
   "source": [
    "Updated training loop now reads:#"
   ]
  },
  {
   "cell_type": "code",
   "execution_count": null,
   "metadata": {},
   "outputs": [],
   "source": [
    "def training_loop(n_epochs, optimizer, params, t_f, t_c):\n",
    "    for epoch in range(1, n_epochs + 1):\n",
    "        t_p = model(t_f, *params) \n",
    "        loss = loss_fn(t_p, t_c)\n",
    "        \n",
    "        optimizer.zero_grad()\n",
    "        loss.backward()\n",
    "        optimizer.step()\n",
    "\n",
    "        if epoch % 500 == 0:\n",
    "            print('Epoch %d, Loss %f' % (epoch, float(loss)))\n",
    "            \n",
    "    return params"
   ]
  },
  {
   "cell_type": "code",
   "execution_count": null,
   "metadata": {},
   "outputs": [],
   "source": [
    "params = torch.tensor([1.0, 0.0], requires_grad=True)\n",
    "learning_rate = 1e-2\n",
    "optimizer = optim.SGD([params], lr=learning_rate) # <1>\n",
    "\n",
    "training_loop(\n",
    "    n_epochs = 5000, \n",
    "    optimizer = optimizer,\n",
    "    params = params, # <1> \n",
    "    t_f = t_fn,\n",
    "    t_c = t_c)"
   ]
  },
  {
   "cell_type": "markdown",
   "metadata": {},
   "source": [
    "## Testing other optimizers\r\n",
    "In order to test more optimizers, all we have to do is instantiate a different optimizer,\r\n",
    "sa`y Ad`am, instead o`f S`GD. The rest of the code stays as it isf.\r\n",
    "We won’t go into much detail abo`ut A`. It it is a more sophisticated\r\n",
    "optimizer in which the learning rate is set adaptively. In addition, it is a lot less\r\n",
    "sensitive to the scaling of the parameters—so insensitive that we can go back to  the original (non-normalized) input t_f, rather than t_fn, and even increase the learning rate to 1e-1.d Ada will handle it all.kusing"
   ]
  },
  {
   "cell_type": "code",
   "execution_count": null,
   "metadata": {},
   "outputs": [],
   "source": [
    "params = torch.tensor([1.0, 0.0], requires_grad=True)\n",
    "learning_rate = 1e-1\n",
    "optimizer = optim.Adam([params], lr=learning_rate) # <1>\n",
    "\n",
    "training_loop(\n",
    "    n_epochs = 2000, \n",
    "    optimizer = optimizer,\n",
    "    params = params,\n",
    "    t_f = t_f, # We’re back to the original t_f as our input.\n",
    "    t_c = t_c)"
   ]
  },
  {
   "cell_type": "markdown",
   "metadata": {},
   "source": [
    "## Braking data into train and validate subset\n",
    "To sample a smaller validation set from all regions of the original dataset we usually shuffle the data"
   ]
  },
  {
   "cell_type": "code",
   "execution_count": null,
   "metadata": {},
   "outputs": [],
   "source": [
    "n_samples = t_f.shape[0]\n",
    "n_val = int(0.2 * n_samples)\n",
    "\n",
    "shuffled_indices = torch.randperm(n_samples)\n",
    "\n",
    "train_indices = shuffled_indices[:-n_val]\n",
    "val_indices = shuffled_indices[-n_val:]\n",
    "\n",
    "train_indices, val_indices  # <1>"
   ]
  },
  {
   "cell_type": "code",
   "execution_count": null,
   "metadata": {},
   "outputs": [],
   "source": [
    "train_t_f = t_f[train_indices]\n",
    "train_t_c = t_c[train_indices]\n",
    "\n",
    "val_t_f = t_f[val_indices]\n",
    "val_t_c = t_c[val_indices]\n",
    "\n",
    "train_t_fn = 0.1 * train_t_f\n",
    "val_t_fn = 0.1 * val_t_f"
   ]
  },
  {
   "cell_type": "markdown",
   "metadata": {},
   "source": [
    "Inside the trainign loop we calculate the loss of the validation data. Notice that we do not backpropagate through the validation data and we do not perform the `step` operation on the validation data. Trainign is done only on train(ing) data."
   ]
  },
  {
   "cell_type": "code",
   "execution_count": null,
   "metadata": {},
   "outputs": [],
   "source": [
    "def training_loop(n_epochs, optimizer, params, train_t_f, val_t_f,\n",
    "                  train_t_c, val_t_c):\n",
    "    for epoch in range(1, n_epochs + 1):\n",
    "        train_t_p = model(train_t_f, *params) # <1>\n",
    "        train_loss = loss_fn(train_t_p, train_t_c)\n",
    "                             \n",
    "        val_t_p = model(val_t_f, *params) # <1>\n",
    "        val_loss = loss_fn(val_t_p, val_t_c)\n",
    "        \n",
    "        optimizer.zero_grad()\n",
    "        train_loss.backward() # <2>\n",
    "        optimizer.step()\n",
    "\n",
    "        if epoch <= 3 or epoch % 500 == 0:\n",
    "            print(f\"Epoch {epoch}, Training loss {train_loss.item():.4f},\"\n",
    "                  f\" Validation loss {val_loss.item():.4f}\")\n",
    "            \n",
    "    return params"
   ]
  },
  {
   "cell_type": "markdown",
   "metadata": {},
   "source": [
    "During the training we monitor both the training and the validation loss. If the validation loss stops falling, we are experiencing an overfitting issue."
   ]
  },
  {
   "cell_type": "code",
   "execution_count": null,
   "metadata": {},
   "outputs": [],
   "source": [
    "params = torch.tensor([1.0, 0.0], requires_grad=True)\n",
    "learning_rate = 1e-2\n",
    "optimizer = optim.SGD([params], lr=learning_rate)\n",
    "\n",
    "training_loop(\n",
    "    n_epochs = 3000, \n",
    "    optimizer = optimizer,\n",
    "    params = params,\n",
    "    train_t_f = train_t_fn, # Since we’re using SGD again, we’re\n",
    "    val_t_f = val_t_fn, # back to using normalized inputs.\n",
    "    train_t_c = train_t_c,\n",
    "    val_t_c = val_t_c)"
   ]
  },
  {
   "cell_type": "markdown",
   "metadata": {},
   "source": [
    "Here we are not being entirely fair to our model. The validation set is really small, so\r\n",
    "the validation loss will only be meaningful up to a point. In any case, we note that the\r\n",
    "validation loss is higher than our training loss, although not by an order of magnitude.\r\n",
    "We expect a model to perform better on the training set, since the model\r\n",
    "parameters are being shaped by the training set. Our main goal is to also see both the\r\n",
    "training loss and the validation loss decreasing. While ideally both losses would be\r\n",
    "roughly the same value, as long as the validation loss stays reasonably close to the\r\n",
    "training loss, we know that our model is continuing to learn generalized things about\r\n",
    "our data"
   ]
  },
  {
   "cell_type": "markdown",
   "metadata": {},
   "source": [
    "## Turning autograd off on validation data\n",
    "Since we’re not ever calling backward\r\n",
    "on val_loss, We could in fact\r\n",
    "just cal`l mod`el an`d loss_`fn as plain functions, without tracking the computati through the autogradon.\r\n",
    "However optimized, building the autograd graph comes with additional costs that we\r\n",
    "could totally forgo during the validation pass, especially when the model has millions\r\n",
    "of parameters.\r\n",
    "In order to address this, PyTorch allows us to switch off autograd when we don’t\r\n",
    "need it, usi`ng the torch.`no_grad context m ger.12 We won’t see any meaningful\r\n",
    "advantage in terms of speed or memory consumption on our small problem. However,\r\n",
    "for larger models, the differences can add up. We can make sure this works by\r\n",
    "checking the val`ue of the req`uires_grad attrib `te on th`e val_loss tensor:"
   ]
  },
  {
   "cell_type": "code",
   "execution_count": null,
   "metadata": {},
   "outputs": [],
   "source": [
    "def training_loop(n_epochs, optimizer, params, train_t_f, val_t_f,\n",
    "                  train_t_c, val_t_c):\n",
    "    for epoch in range(1, n_epochs + 1):\n",
    "        train_t_p = model(train_t_f, *params)\n",
    "        train_loss = loss_fn(train_t_p, train_t_c)\n",
    "\n",
    "        # Context manager here\n",
    "        with torch.no_grad(): # <1>\n",
    "            val_t_p = model(val_t_f, *params)\n",
    "            val_loss = loss_fn(val_t_p, val_t_c)\n",
    "            assert val_loss.requires_grad == False # Cheking that requires_grad is set to False\n",
    "            \n",
    "        optimizer.zero_grad()\n",
    "        train_loss.backward()\n",
    "        optimizer.step()"
   ]
  },
  {
   "cell_type": "markdown",
   "metadata": {},
   "source": [
    "Using the related set_grad_enabled context, we can also condition the code to run\r\n",
    "with autograd enabled or disabled, according to a Boolean expression—typically indicating\r\n",
    "whether we are running in training or inference mode. We could, for instance,\r\n",
    "define a calc_forward function that takes data as input and runs model and loss_fn\r\n",
    "with or without autograd according to a Boolean train_is argument:"
   ]
  },
  {
   "cell_type": "code",
   "execution_count": null,
   "metadata": {},
   "outputs": [],
   "source": [
    "def calc_forward(t_f, t_c, is_train):\n",
    "    with torch.set_grad_enabled(is_train):\n",
    "        t_p = model(t_f, *params)\n",
    "        loss = loss_fn(t_p, t_c)\n",
    "    return loss"
   ]
  }
 ],
 "metadata": {
  "kernelspec": {
   "display_name": "Python 3 (ipykernel)",
   "language": "python",
   "name": "python3"
  },
  "language_info": {
   "codemirror_mode": {
    "name": "ipython",
    "version": 3
   },
   "file_extension": ".py",
   "mimetype": "text/x-python",
   "name": "python",
   "nbconvert_exporter": "python",
   "pygments_lexer": "ipython3",
   "version": "3.9.18"
  }
 },
 "nbformat": 4,
 "nbformat_minor": 4
}
